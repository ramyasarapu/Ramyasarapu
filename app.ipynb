{
 "cells": [
  {
   "cell_type": "code",
   "execution_count": null,
   "id": "6eb17e68-6364-45da-97a9-e887af7ada78",
   "metadata": {},
   "outputs": [
    {
     "name": "stdout",
     "output_type": "stream",
     "text": [
      " * Serving Flask app '__main__'\n",
      " * Debug mode: on\n"
     ]
    },
    {
     "name": "stderr",
     "output_type": "stream",
     "text": [
      "WARNING: This is a development server. Do not use it in a production deployment. Use a production WSGI server instead.\n",
      " * Running on http://127.0.0.1:5000\n",
      "Press CTRL+C to quit\n",
      "127.0.0.1 - - [22/Jun/2025 21:05:45] \"GET / HTTP/1.1\" 200 -\n",
      "127.0.0.1 - - [22/Jun/2025 21:05:46] \"GET /static/main.css HTTP/1.1\" 200 -\n",
      "127.0.0.1 - - [22/Jun/2025 21:05:46] \"GET /static/bg.jpg HTTP/1.1\" 304 -\n",
      "127.0.0.1 - - [22/Jun/2025 21:05:46] \"GET /favicon.ico HTTP/1.1\" 404 -\n",
      "127.0.0.1 - - [22/Jun/2025 21:05:48] \"GET /predict HTTP/1.1\" 200 -\n",
      "127.0.0.1 - - [22/Jun/2025 21:05:48] \"GET /static/main.css HTTP/1.1\" 304 -\n",
      "127.0.0.1 - - [22/Jun/2025 21:05:50] \"GET / HTTP/1.1\" 200 -\n",
      "127.0.0.1 - - [22/Jun/2025 21:05:50] \"GET /static/main.css HTTP/1.1\" 304 -\n",
      "127.0.0.1 - - [22/Jun/2025 21:05:50] \"GET /static/bg.jpg HTTP/1.1\" 304 -\n",
      "127.0.0.1 - - [22/Jun/2025 21:05:51] \"GET /details HTTP/1.1\" 200 -\n",
      "127.0.0.1 - - [22/Jun/2025 21:05:51] \"GET /static/main.css HTTP/1.1\" 304 -\n",
      "127.0.0.1 - - [22/Jun/2025 21:05:51] \"GET /static/architecture.png HTTP/1.1\" 200 -\n",
      "127.0.0.1 - - [22/Jun/2025 21:05:51] \"GET /static/paddy.jpg HTTP/1.1\" 200 -\n",
      "127.0.0.1 - - [22/Jun/2025 21:05:53] \"GET /contact HTTP/1.1\" 200 -\n",
      "127.0.0.1 - - [22/Jun/2025 21:05:53] \"GET /static/main.css HTTP/1.1\" 304 -\n",
      "127.0.0.1 - - [22/Jun/2025 21:05:57] \"GET /details HTTP/1.1\" 200 -\n",
      "127.0.0.1 - - [22/Jun/2025 21:05:57] \"GET /static/main.css HTTP/1.1\" 304 -\n",
      "127.0.0.1 - - [22/Jun/2025 21:05:57] \"GET /static/paddy.jpg HTTP/1.1\" 304 -\n",
      "127.0.0.1 - - [22/Jun/2025 21:05:57] \"GET /static/architecture.png HTTP/1.1\" 304 -\n",
      "127.0.0.1 - - [22/Jun/2025 21:05:58] \"GET / HTTP/1.1\" 200 -\n",
      "127.0.0.1 - - [22/Jun/2025 21:05:58] \"GET /static/main.css HTTP/1.1\" 304 -\n",
      "127.0.0.1 - - [22/Jun/2025 21:12:24] \"GET / HTTP/1.1\" 200 -\n",
      "127.0.0.1 - - [22/Jun/2025 21:12:24] \"GET /static/main.css HTTP/1.1\" 304 -\n",
      "127.0.0.1 - - [22/Jun/2025 21:12:24] \"GET /static/bg.jpg HTTP/1.1\" 304 -\n",
      "127.0.0.1 - - [22/Jun/2025 21:12:38] \"GET /contact HTTP/1.1\" 200 -\n",
      "127.0.0.1 - - [22/Jun/2025 21:12:38] \"GET /static/main.css HTTP/1.1\" 304 -\n",
      "127.0.0.1 - - [22/Jun/2025 21:13:27] \"GET / HTTP/1.1\" 200 -\n",
      "127.0.0.1 - - [22/Jun/2025 21:13:27] \"GET /static/main.css HTTP/1.1\" 304 -\n",
      "127.0.0.1 - - [22/Jun/2025 21:13:27] \"GET /static/bg.jpg HTTP/1.1\" 304 -\n",
      "127.0.0.1 - - [22/Jun/2025 21:15:19] \"GET / HTTP/1.1\" 200 -\n",
      "127.0.0.1 - - [22/Jun/2025 21:15:19] \"GET /static/main.css HTTP/1.1\" 304 -\n",
      "127.0.0.1 - - [22/Jun/2025 21:15:19] \"GET /static/bg.jpg HTTP/1.1\" 304 -\n",
      "127.0.0.1 - - [22/Jun/2025 21:15:24] \"GET /details HTTP/1.1\" 200 -\n",
      "127.0.0.1 - - [22/Jun/2025 21:15:24] \"GET /static/main.css HTTP/1.1\" 304 -\n",
      "127.0.0.1 - - [22/Jun/2025 21:15:24] \"GET /static/paddy.jpg HTTP/1.1\" 304 -\n",
      "127.0.0.1 - - [22/Jun/2025 21:15:24] \"GET /static/architecture.png HTTP/1.1\" 304 -\n",
      "127.0.0.1 - - [22/Jun/2025 21:15:38] \"GET /contact HTTP/1.1\" 200 -\n",
      "127.0.0.1 - - [22/Jun/2025 21:15:38] \"GET /static/main.css HTTP/1.1\" 304 -\n",
      "127.0.0.1 - - [22/Jun/2025 21:15:44] \"GET / HTTP/1.1\" 200 -\n",
      "127.0.0.1 - - [22/Jun/2025 21:15:44] \"GET /static/main.css HTTP/1.1\" 304 -\n",
      "127.0.0.1 - - [22/Jun/2025 21:15:44] \"GET /static/bg.jpg HTTP/1.1\" 304 -\n",
      "127.0.0.1 - - [22/Jun/2025 21:15:47] \"GET /predict HTTP/1.1\" 200 -\n",
      "127.0.0.1 - - [22/Jun/2025 21:15:47] \"GET /static/main.css HTTP/1.1\" 304 -\n"
     ]
    },
    {
     "name": "stdout",
     "output_type": "stream",
     "text": [
      "1/1 [==============================] - 1s 658ms/step\n"
     ]
    },
    {
     "name": "stderr",
     "output_type": "stream",
     "text": [
      "127.0.0.1 - - [22/Jun/2025 21:16:12] \"POST /predict HTTP/1.1\" 200 -\n",
      "127.0.0.1 - - [22/Jun/2025 21:16:12] \"GET /static/main.css HTTP/1.1\" 304 -\n"
     ]
    },
    {
     "name": "stdout",
     "output_type": "stream",
     "text": [
      "1/1 [==============================] - 0s 109ms/step\n"
     ]
    },
    {
     "name": "stderr",
     "output_type": "stream",
     "text": [
      "127.0.0.1 - - [22/Jun/2025 21:16:25] \"POST /predict HTTP/1.1\" 200 -\n",
      "127.0.0.1 - - [22/Jun/2025 21:16:25] \"GET /static/main.css HTTP/1.1\" 304 -\n"
     ]
    },
    {
     "name": "stdout",
     "output_type": "stream",
     "text": [
      "1/1 [==============================] - 0s 96ms/step\n"
     ]
    },
    {
     "name": "stderr",
     "output_type": "stream",
     "text": [
      "127.0.0.1 - - [22/Jun/2025 21:16:33] \"POST /predict HTTP/1.1\" 200 -\n",
      "127.0.0.1 - - [22/Jun/2025 21:16:33] \"GET /static/main.css HTTP/1.1\" 304 -\n",
      "127.0.0.1 - - [22/Jun/2025 21:19:23] \"GET / HTTP/1.1\" 200 -\n",
      "127.0.0.1 - - [22/Jun/2025 21:19:23] \"GET /static/main.css HTTP/1.1\" 304 -\n",
      "127.0.0.1 - - [22/Jun/2025 21:19:23] \"GET /static/bg.jpg HTTP/1.1\" 304 -\n",
      "127.0.0.1 - - [22/Jun/2025 21:19:32] \"GET /contact HTTP/1.1\" 200 -\n",
      "127.0.0.1 - - [22/Jun/2025 21:19:32] \"GET /static/main.css HTTP/1.1\" 304 -\n",
      "127.0.0.1 - - [22/Jun/2025 21:20:46] \"GET / HTTP/1.1\" 200 -\n",
      "127.0.0.1 - - [22/Jun/2025 21:20:46] \"GET /static/main.css HTTP/1.1\" 304 -\n",
      "127.0.0.1 - - [22/Jun/2025 21:20:46] \"GET /static/bg.jpg HTTP/1.1\" 304 -\n",
      "127.0.0.1 - - [22/Jun/2025 21:20:54] \"GET /details HTTP/1.1\" 200 -\n",
      "127.0.0.1 - - [22/Jun/2025 21:20:54] \"GET /static/main.css HTTP/1.1\" 304 -\n",
      "127.0.0.1 - - [22/Jun/2025 21:20:54] \"GET /static/paddy.jpg HTTP/1.1\" 304 -\n",
      "127.0.0.1 - - [22/Jun/2025 21:20:54] \"GET /static/architecture.png HTTP/1.1\" 304 -\n",
      "127.0.0.1 - - [22/Jun/2025 21:21:04] \"GET /contact HTTP/1.1\" 200 -\n",
      "127.0.0.1 - - [22/Jun/2025 21:21:04] \"GET /static/main.css HTTP/1.1\" 304 -\n",
      "127.0.0.1 - - [22/Jun/2025 21:21:07] \"GET / HTTP/1.1\" 200 -\n",
      "127.0.0.1 - - [22/Jun/2025 21:21:07] \"GET /static/main.css HTTP/1.1\" 304 -\n",
      "127.0.0.1 - - [22/Jun/2025 21:21:07] \"GET /static/bg.jpg HTTP/1.1\" 304 -\n",
      "127.0.0.1 - - [22/Jun/2025 21:21:09] \"GET /predict HTTP/1.1\" 200 -\n",
      "127.0.0.1 - - [22/Jun/2025 21:21:09] \"GET /static/main.css HTTP/1.1\" 304 -\n"
     ]
    }
   ],
   "source": [
    "from flask import Flask, render_template, request, redirect, url_for\n",
    "from tensorflow.keras.models import load_model\n",
    "from tensorflow.keras.preprocessing import image\n",
    "import numpy as np\n",
    "import os\n",
    "\n",
    "app = Flask(__name__)\n",
    "app.config['UPLOAD_FOLDER'] = 'uploads'\n",
    "\n",
    "# Load the trained model\n",
    "model = load_model('rice_model.h5')\n",
    "\n",
    "# Class labels (update if different)\n",
    "class_names = [ 'Arborio', 'Basmati','Ipsala' ,'Jasmine','karacadag']\n",
    "\n",
    "# Home route\n",
    "@app.route('/')\n",
    "def home():\n",
    "    return render_template('index.html')\n",
    "\n",
    "# Details page\n",
    "@app.route('/details')\n",
    "def details():\n",
    "    return render_template('details.html')\n",
    "\n",
    "# Contact page\n",
    "@app.route('/contact')\n",
    "def contact():\n",
    "    return render_template('contact.html')\n",
    "\n",
    "# Predict page\n",
    "@app.route('/predict', methods=['GET', 'POST'])\n",
    "def predict():\n",
    "    prediction = None\n",
    "    if request.method == 'POST':\n",
    "        file = request.files['file']\n",
    "        if file:\n",
    "            filepath = os.path.join(app.config['UPLOAD_FOLDER'], file.filename)\n",
    "            file.save(filepath)\n",
    "\n",
    "            # Preprocess image\n",
    "            img = image.load_img(filepath, target_size=(224, 224))\n",
    "            img_array = image.img_to_array(img) / 255.0\n",
    "            img_array = np.expand_dims(img_array, axis=0)\n",
    "\n",
    "            pred = model.predict(img_array)\n",
    "            predicted_class = class_names[np.argmax(pred)]\n",
    "            prediction = f\"{predicted_class}\"\n",
    "\n",
    "    return render_template('predict.html', prediction=prediction)\n",
    "\n",
    "if __name__ == '__main__':\n",
    "    app.run(debug=True, use_reloader=False)\n"
   ]
  },
  {
   "cell_type": "code",
   "execution_count": null,
   "id": "da9a119a-ba6d-448b-a28c-d8193a03acd2",
   "metadata": {},
   "outputs": [],
   "source": []
  }
 ],
 "metadata": {
  "kernelspec": {
   "display_name": "Python [conda env:my_env]",
   "language": "python",
   "name": "conda-env-my_env-py"
  },
  "language_info": {
   "codemirror_mode": {
    "name": "ipython",
    "version": 3
   },
   "file_extension": ".py",
   "mimetype": "text/x-python",
   "name": "python",
   "nbconvert_exporter": "python",
   "pygments_lexer": "ipython3",
   "version": "3.10.8"
  }
 },
 "nbformat": 4,
 "nbformat_minor": 5
}
